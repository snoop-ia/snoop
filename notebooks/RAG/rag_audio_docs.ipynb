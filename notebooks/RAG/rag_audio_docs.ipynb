{
 "cells": [
  {
   "cell_type": "code",
   "id": "initial_id",
   "metadata": {
    "collapsed": true,
    "ExecuteTime": {
     "end_time": "2024-06-04T15:45:13.680740Z",
     "start_time": "2024-06-04T15:45:13.674838Z"
    }
   },
   "source": [
    "from langchain_community.document_loaders.generic import GenericLoader\n",
    "from langchain_community.document_loaders.blob_loaders import FileSystemBlobLoader\n",
    "from langchain_community.document_loaders.parsers import OpenAIWhisperParser\n",
    "from langchain_community.document_loaders.parsers.audio import OpenAIWhisperParserLocal\n",
    "from langchain.schema import Document\n",
    "from langchain_community.vectorstores import Chroma\n",
    "from langchain_openai import OpenAIEmbeddings\n",
    "from langchain_text_splitters import RecursiveCharacterTextSplitter\n",
    "\n",
    "from typing import List, Tuple\n",
    "\n",
    "import os.path\n",
    "import shutil\n",
    "import dotenv\n",
    "\n",
    "dotenv.load_dotenv()\n",
    "\n",
    "LOCAL = True\n",
    "SAVE_DIR = os.getenv('SAVE_DIR')\n",
    "CHROMA_PATH = os.getenv('CHROMA_PATH')\n",
    "WHISPER_MODEL = os.getenv('WHISPER_MODEL')\n",
    "OPENAI_API_KEY = os.getenv('OPENAI_API_KEY')"
   ],
   "outputs": [],
   "execution_count": 23
  },
  {
   "metadata": {
    "ExecuteTime": {
     "end_time": "2024-06-04T16:14:21.849563Z",
     "start_time": "2024-06-04T16:14:21.846028Z"
    }
   },
   "cell_type": "code",
   "source": [
    "def load_audio_documents(audios: List[str]) -> List[Document]:\n",
    "    def combine_documents(document_list: List[Document]) -> Document:\n",
    "        combined_document = [doc for doc_list in document_list for doc in doc_list]\n",
    "        return combined_document\n",
    "\n",
    "    loaders = []\n",
    "    if LOCAL:\n",
    "        for audio in audios:\n",
    "            loader = GenericLoader.from_filesystem(path=audio, parser=OpenAIWhisperParserLocal(lang_model=WHISPER_MODEL))\n",
    "            loaders.append(loader)\n",
    "\n",
    "    else:\n",
    "        for audio in audios:\n",
    "            loader = GenericLoader.from_filesystem(path=audio, parser=OpenAIWhisperParser(api_key=OPENAI_API_KEY))\n",
    "            loaders.append(loader)\n",
    "\n",
    "    documents = [loader.load() for loader in loaders]\n",
    "    documents = combine_documents(documents)\n",
    "    print(f\"Loaded {len(documents)} documents_loaded\")\n",
    "    return documents"
   ],
   "id": "829821b014f3cbda",
   "outputs": [],
   "execution_count": 72
  },
  {
   "metadata": {
    "ExecuteTime": {
     "end_time": "2024-06-04T15:32:12.658593Z",
     "start_time": "2024-06-04T15:32:12.655089Z"
    }
   },
   "cell_type": "code",
   "source": [
    "def split_documents(documents: List[Document]) -> List[Document]:\n",
    "    splitter = RecursiveCharacterTextSplitter(\n",
    "        chunk_size=1500,\n",
    "        chunk_overlap=100,\n",
    "    )\n",
    "    chunks = splitter.split_documents(documents)\n",
    "    print(f\"Number of chunks: {len(chunks)}, for {len(documents)} documents\")\n",
    "    print(f\"Split documents done !\")\n",
    "    return chunks"
   ],
   "id": "8627d059bc40900",
   "outputs": [],
   "execution_count": 4
  },
  {
   "metadata": {
    "ExecuteTime": {
     "end_time": "2024-06-04T15:32:13.802314Z",
     "start_time": "2024-06-04T15:32:13.799387Z"
    }
   },
   "cell_type": "code",
   "source": [
    "def get_vector_store(**kwargs) -> Tuple[Chroma, List[Document]]:\n",
    "    documents = []\n",
    "    if 'docs' in kwargs:\n",
    "        documents = load_audio_documents(kwargs['docs'])\n",
    "    elif 'urls' in kwargs:\n",
    "        documents = load_videos(kwargs['urls'])\n",
    "    else:\n",
    "        raise ValueError(\"No documents or urls provided\")\n",
    "\n",
    "    chunks = split_documents(documents)\n",
    "    vector_store = Chroma.from_documents(documents=chunks,\n",
    "                                         embedding=OpenAIEmbeddings(openai_api_key=OPENAI_API_KEY))\n",
    "    return vector_store, chunks"
   ],
   "id": "c86dfff826457488",
   "outputs": [],
   "execution_count": 5
  },
  {
   "metadata": {
    "ExecuteTime": {
     "end_time": "2024-06-04T16:14:24.951106Z",
     "start_time": "2024-06-04T16:14:24.948112Z"
    }
   },
   "cell_type": "code",
   "source": [
    "audio_file = [\n",
    "    \"../../data/audio/mp3/Comment commencer un discours  Ne plus dire bonjour mais captiver laudience dès votre arrivée.mp3\",\n",
    "    \"../../data/audio/mp3/Emmanuel Macron  Nous sommes en guerre contre le coronavirus - Covid-19.mp3\",\n",
    "    \"../../data/audio/mp3/Molieres  une cérémonie forte en messages politiques.mp3\"\n",
    "]"
   ],
   "id": "ca4c6b8f4cb1f959",
   "outputs": [],
   "execution_count": 73
  },
  {
   "metadata": {
    "ExecuteTime": {
     "end_time": "2024-06-04T16:14:36.275045Z",
     "start_time": "2024-06-04T16:14:26.196570Z"
    }
   },
   "cell_type": "code",
   "source": "docs = load_audio_documents(audio_file)",
   "id": "f845528d5cae4587",
   "outputs": [
    {
     "name": "stdout",
     "output_type": "stream",
     "text": [
      "Using the following model:  openai/whisper-tiny\n"
     ]
    },
    {
     "name": "stderr",
     "output_type": "stream",
     "text": [
      "Special tokens have been added in the vocabulary, make sure the associated word embeddings are fine-tuned or trained.\n"
     ]
    },
    {
     "name": "stdout",
     "output_type": "stream",
     "text": [
      "Using the following model:  openai/whisper-tiny\n"
     ]
    },
    {
     "name": "stderr",
     "output_type": "stream",
     "text": [
      "Special tokens have been added in the vocabulary, make sure the associated word embeddings are fine-tuned or trained.\n"
     ]
    },
    {
     "name": "stdout",
     "output_type": "stream",
     "text": [
      "Using the following model:  openai/whisper-tiny\n"
     ]
    },
    {
     "name": "stderr",
     "output_type": "stream",
     "text": [
      "Special tokens have been added in the vocabulary, make sure the associated word embeddings are fine-tuned or trained.\n"
     ]
    },
    {
     "name": "stdout",
     "output_type": "stream",
     "text": [
      "Transcribing part ../../data/audio/mp3/Comment commencer un discours  Ne plus dire bonjour mais captiver laudience dès votre arrivée.mp3!\n",
      "Transcribing part ../../data/audio/mp3/Emmanuel Macron  Nous sommes en guerre contre le coronavirus - Covid-19.mp3!\n",
      "Transcribing part ../../data/audio/mp3/Molieres  une cérémonie forte en messages politiques.mp3!\n",
      "Loaded 3 documents_loaded\n"
     ]
    }
   ],
   "execution_count": 74
  },
  {
   "metadata": {
    "ExecuteTime": {
     "end_time": "2024-06-04T16:17:17.466020Z",
     "start_time": "2024-06-04T16:17:17.460183Z"
    }
   },
   "cell_type": "code",
   "source": "print(docs[1].page_content)",
   "id": "229c169f174e8acb",
   "outputs": [
    {
     "name": "stdout",
     "output_type": "stream",
     "text": [
      " Nous sommes en guerre. En guerre sanitaire, certes. Nous nous mettons, n'écontre une armée, n'écontre une autre nation. Mais l'ennemi est là, invisible, inséciable qui progressent. Et cela requiert notre mobilisation générale. Nous sommes en guerre. Tout l'action du gouvernement est du parlement. Toi t'être désormais tournée vers le combat contre l'épidémie. De jour, comme de nuit, rien ne doit nous en divertir. C'est pourquoi j'ai décidé que toutes les réformes en cours se rérispendus à commencer par la réforme des retraites.\n"
     ]
    }
   ],
   "execution_count": 80
  },
  {
   "metadata": {
    "ExecuteTime": {
     "end_time": "2024-06-04T16:15:35.550031Z",
     "start_time": "2024-06-04T16:15:35.546334Z"
    }
   },
   "cell_type": "code",
   "source": "chunks = split_documents(docs)",
   "id": "39e4ea3e6ca7458d",
   "outputs": [
    {
     "name": "stdout",
     "output_type": "stream",
     "text": [
      "Number of chunks: 3, for 3 documents\n",
      "Split documents done !\n"
     ]
    }
   ],
   "execution_count": 76
  },
  {
   "metadata": {
    "ExecuteTime": {
     "end_time": "2024-06-04T16:16:02.262448Z",
     "start_time": "2024-06-04T16:15:51.107316Z"
    }
   },
   "cell_type": "code",
   "source": "vector_store, chunks = get_vector_store(docs=audio_file)",
   "id": "c34a3d721dfc836",
   "outputs": [
    {
     "name": "stdout",
     "output_type": "stream",
     "text": [
      "Using the following model:  openai/whisper-tiny\n"
     ]
    },
    {
     "name": "stderr",
     "output_type": "stream",
     "text": [
      "Special tokens have been added in the vocabulary, make sure the associated word embeddings are fine-tuned or trained.\n"
     ]
    },
    {
     "name": "stdout",
     "output_type": "stream",
     "text": [
      "Using the following model:  openai/whisper-tiny\n"
     ]
    },
    {
     "name": "stderr",
     "output_type": "stream",
     "text": [
      "Special tokens have been added in the vocabulary, make sure the associated word embeddings are fine-tuned or trained.\n"
     ]
    },
    {
     "name": "stdout",
     "output_type": "stream",
     "text": [
      "Using the following model:  openai/whisper-tiny\n"
     ]
    },
    {
     "name": "stderr",
     "output_type": "stream",
     "text": [
      "Special tokens have been added in the vocabulary, make sure the associated word embeddings are fine-tuned or trained.\n"
     ]
    },
    {
     "name": "stdout",
     "output_type": "stream",
     "text": [
      "Transcribing part ../../data/audio/mp3/Comment commencer un discours  Ne plus dire bonjour mais captiver laudience dès votre arrivée.mp3!\n",
      "Transcribing part ../../data/audio/mp3/Emmanuel Macron  Nous sommes en guerre contre le coronavirus - Covid-19.mp3!\n",
      "Transcribing part ../../data/audio/mp3/Molieres  une cérémonie forte en messages politiques.mp3!\n",
      "Loaded 3 documents_loaded\n",
      "Number of chunks: 3, for 3 documents\n",
      "Split documents done !\n"
     ]
    }
   ],
   "execution_count": 77
  },
  {
   "metadata": {
    "ExecuteTime": {
     "end_time": "2024-06-04T16:18:34.178070Z",
     "start_time": "2024-06-04T16:18:34.171916Z"
    }
   },
   "cell_type": "code",
   "source": [
    "from langchain import hub\n",
    "from langchain_community.vectorstores import Chroma\n",
    "from langchain_core.output_parsers import StrOutputParser\n",
    "from langchain_core.runnables import RunnablePassthrough\n",
    "from langchain_core.runnables import RunnableParallel\n",
    "from langchain_openai import ChatOpenAI, OpenAIEmbeddings\n",
    "from langchain_text_splitters import RecursiveCharacterTextSplitter\n",
    "\n",
    "import os.path\n",
    "import shutil\n",
    "import dotenv"
   ],
   "id": "4301e7822eaa5bef",
   "outputs": [],
   "execution_count": 83
  },
  {
   "metadata": {
    "ExecuteTime": {
     "end_time": "2024-06-04T16:18:58.327816Z",
     "start_time": "2024-06-04T16:18:58.324752Z"
    }
   },
   "cell_type": "code",
   "source": [
    "def format_docs(docs):\n",
    "    return \"\\n\\n\".join(doc.page_content for doc in docs)"
   ],
   "id": "8815b7d45f8479e3",
   "outputs": [],
   "execution_count": 85
  },
  {
   "metadata": {
    "ExecuteTime": {
     "end_time": "2024-06-04T16:19:07.869682Z",
     "start_time": "2024-06-04T16:18:59.322532Z"
    }
   },
   "cell_type": "code",
   "source": [
    "retriever = vector_store.as_retriever()\n",
    "\n",
    "prompt = hub.pull(\"rlm/rag-prompt\")\n",
    "\n",
    "llm = ChatOpenAI(model=\"gpt-3.5-turbo\", temperature=0)\n",
    "\n",
    "rag_chain_from_docs = (\n",
    "        RunnablePassthrough.assign(context=(lambda x: format_docs(x[\"context\"])))\n",
    "        | prompt\n",
    "        | llm\n",
    "        | StrOutputParser()\n",
    ")\n",
    "\n",
    "rag_chain_with_source = RunnableParallel(\n",
    "    {\"context\": retriever, \"question\": RunnablePassthrough()}\n",
    ").assign(answer=rag_chain_from_docs)\n",
    "\n",
    "query = \"Quel est le type de guerre confronté par Emmanuel Macron ?\"\n",
    "\n",
    "result = rag_chain_with_source.invoke(query)\n",
    "print(f\"Question : {result['question']}\")\n",
    "print(f\"Answer : {result['answer']}\")\n",
    "print(f\"Sources : {result['context']}\")"
   ],
   "id": "8d1929b522f46cf2",
   "outputs": [
    {
     "name": "stderr",
     "output_type": "stream",
     "text": [
      "Number of requested results 4 is greater than number of elements in index 3, updating n_results = 3\n"
     ]
    },
    {
     "name": "stdout",
     "output_type": "stream",
     "text": [
      "Question : Quel est le type de guerre confronté par Emmanuel Macron ?\n",
      "Answer : Emmanuel Macron est confronté à une guerre sanitaire contre une épidémie, nécessitant une mobilisation générale. Toutes les réformes en cours ont été suspendues pour se concentrer sur la lutte contre l'épidémie. Il est important de rester concentré sur ce combat, de jour comme de nuit.\n",
      "Sources : [Document(page_content=\"Nous sommes en guerre. En guerre sanitaire, certes. Nous nous mettons, n'écontre une armée, n'écontre une autre nation. Mais l'ennemi est là, invisible, inséciable qui progressent. Et cela requiert notre mobilisation générale. Nous sommes en guerre. Tout l'action du gouvernement est du parlement. Toi t'être désormais tournée vers le combat contre l'épidémie. De jour, comme de nuit, rien ne doit nous en divertir. C'est pourquoi j'ai décidé que toutes les réformes en cours se rérispendus à commencer par la réforme des retraites.\", metadata={'source': '../../data/audio/mp3/Emmanuel Macron  Nous sommes en guerre contre le coronavirus - Covid-19.mp3'}), Document(page_content=\"Vous pensez sans doute que la réglé de politesse, c'est de commencer votre intervention en salion le public, je vous propose aujourd'hui avez pas vu différencier. Or, c'est dans les premières secondes que vous allez pouvoir accrocher votre public. Vous rentrez sur scène. Dans un long silence, vous regardez votre public en souriant et vous attaquez avec des noms puissants un peu comme dans cette extrême. et je ne suis pas malheureusement, c'est l'art du petit nuquerisme. À très vite.\", metadata={'source': '../../data/audio/mp3/Comment commencer un discours  Ne plus dire bonjour mais captiver laudience dès votre arrivée.mp3'}), Document(page_content=\"Tout de vrais ronds aussi faire attention à nos silences. Car voigne-vous dans le broi de nos allignations facile, le silence, même relative, après ce cet octobre, dans lequel 1200 israélien ont été massacré et t'as sorti sans. Et si les dividendes que nous partageons tous ici, les apels au CELF, comment être solidaire des milliers de civils mort à Gaza, sans être aussi solidaire des victimes d'Israélienne.\", metadata={'source': '../../data/audio/mp3/Molieres  une cérémonie forte en messages politiques.mp3'})]\n"
     ]
    }
   ],
   "execution_count": 86
  },
  {
   "metadata": {},
   "cell_type": "code",
   "outputs": [],
   "execution_count": null,
   "source": "",
   "id": "b00cc6abe372a7c5"
  },
  {
   "metadata": {},
   "cell_type": "code",
   "outputs": [],
   "execution_count": null,
   "source": "",
   "id": "7094a6f598b87fdc"
  },
  {
   "metadata": {},
   "cell_type": "code",
   "outputs": [],
   "execution_count": null,
   "source": "",
   "id": "6aa9219b779904fa"
  },
  {
   "metadata": {},
   "cell_type": "code",
   "outputs": [],
   "execution_count": null,
   "source": "",
   "id": "66e11a5316de1bf8"
  }
 ],
 "metadata": {
  "kernelspec": {
   "display_name": "Python 3",
   "language": "python",
   "name": "python3"
  },
  "language_info": {
   "codemirror_mode": {
    "name": "ipython",
    "version": 2
   },
   "file_extension": ".py",
   "mimetype": "text/x-python",
   "name": "python",
   "nbconvert_exporter": "python",
   "pygments_lexer": "ipython2",
   "version": "2.7.6"
  }
 },
 "nbformat": 4,
 "nbformat_minor": 5
}
